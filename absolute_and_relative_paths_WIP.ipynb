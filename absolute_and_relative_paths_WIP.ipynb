{
 "cells": [
  {
   "cell_type": "markdown",
   "metadata": {},
   "source": [
    "### Guide to Using Absolute and Relative Paths When Reading Files Pandas\n",
    "\n",
    "## TLDR\n",
    "(Only use if you know your scripts will be used on one OS. For a more foolproof solution, look at the **More Resilient Approach** section)"
   ]
  },
  {
   "cell_type": "code",
   "execution_count": null,
   "metadata": {},
   "outputs": [],
   "source": [
    "# For Absolute path, just put the full path with single forward slashes.\n",
    "eg_abs_path = 'C:/Users/Home/Data/example.csv'\n",
    "\n",
    "# For path relative to location you are running the python script/module from, use file name with relative path prefix.\n",
    "eg_rel_cwd_path_1 = '../example.csv'\n",
    "# Or simply\n",
    "eg_rel_cwd_path_2 = 'example.csv'\n",
    "\n",
    "# For path relative to the python script/module using the path, use os.path.realpath() with __file__.\n",
    "import os\n",
    "#eg_rel_scrpt_path = os.path.realpath(__file__)\n",
    "\n",
    "# Note the above doesn't work for Jupyter, REPL/ Python Shell.\n",
    "# In that case, use: os.path.abspath('')\n",
    "eg_rel_scrpt_path_2 = os.path.abspath('')"
   ]
  },
  {
   "cell_type": "markdown",
   "metadata": {},
   "source": [
    "## Useful Links\n",
    "- [\\__file__ dunder doesn't work in Jupyter, REPL, Shell](https://stackoverflow.com/questions/39125532/file-does-not-exist-in-jupyter-notebook)\n",
    "- [Create link tree diagram text](https://stackoverflow.com/questions/39125532/file-does-not-exist-in-jupyter-notebook)"
   ]
  },
  {
   "cell_type": "markdown",
   "metadata": {},
   "source": [
    "Information to include\n",
    "- relative paths\n",
    "  - relative to where you run the script from\n",
    "  - relative to location of the script\n",
    "- to avoid confusion can specify full path\n",
    "- different Operating systems have different conventions\n",
    "    - windows, mac, linux\n",
    "    - windows uses backslash, escape character\n",
    "    - even though forward slashes work for paths with pandas\n",
    "    - so easiest to use forward slashes\n",
    "    - most resilient way is to use\n",
    "      - os\n",
    "      - pathlib (> Python 3.4)\n",
    "    - OS lib __file__ dunder \n",
    "    - canonical path"
   ]
  },
  {
   "cell_type": "markdown",
   "metadata": {},
   "source": [
    "## Default Behaviour\n",
    "Pandas by default looks for the file in the directory that you are running the script from. \n",
    "\n",
    "So say if you are looking to run a file with absolute path: \n",
    " C:/Users/Home/example.csv\n",
    " \n",
    "Provided you are running the python script that loads the 'example.csv' file from the directory:\n",
    " C:/Users/Home/\n",
    "You do not need to specify the filepath at all, you can just put the file name:\n",
    "```python\n",
    "df = pd.read_csv('example.csv')\n",
    "```\n",
    "### Be Careful\n",
    "\n",
    "Be careful not to confuse the location that you are running the script from, with the location of the script itself. Often these two locations are the same. For example, consider the below folder structure:\n",
    "\n",
    "```text\n",
    "\n",
    "└── C:/\n",
    "    └── Users/\n",
    "        └── Home/\n",
    "            └── project/\n",
    "                ├── main.py\n",
    "                └── example.csv\n",
    "\n",
    "```\n",
    "\n",
    "Where main.py contains a simple script that reads a CSV file using pandas:\n",
    "\n",
    "```python\n",
    "import pandas as pd\n",
    "df = pd.read_csv('example.csv')\n",
    "```\n",
    "If you run main.py from the project subdirectory:\n",
    "```cmd\n",
    "C:\\Users\\Home\\project>python main.py\n",
    "```\n",
    "The script will run with no problem and *example.csv* will be loaded into a DataFrame.\n",
    "\n",
    "However, if you run main.py from the directory above, Home/, the script will fail. This is because read_csv will look for the file in the location that the script is being run, not the location of the file itself.\n",
    "\n",
    "```cmd\n",
    "C:\\Users\\Home>python project\\main.py\n",
    "```\n",
    "Or put more explicitly, read_csv() will look relative to *C:\\Users\\Home*, not *C:\\Users\\Home\\project*. Similarly, if *example.csv* was actually one folder, up in *Home/* (as in the filetree below), running main.py would work from *Home/*, but not from *project/*. I.E. ```C:\\Users\\Home>python project\\main.py``` would work, but ```C:\\Users\\Home\\project>python main.py``` would not.\n",
    "\n",
    "```text\n",
    "└── C:/\n",
    "    └── Users/\n",
    "        └── Home/\n",
    "            ├── example.csv\n",
    "            └── project/\n",
    "                └── main.py\n",
    "```\n",
    "\n",
    "### Using Absolute Paths\n",
    "Another approach would be to just refer to the absolute path of the csv file to avoid confusion. So something like this:\n",
    "```python\n",
    "df = pd.read_csv('C:/Users/Home/example.csv')\n",
    "```\n",
    "\n",
    "This could lead to other problems depending on which operating sytem you are running the script.\n",
    "- Windows uses backslashes \\ to separate folders in filepaths.\n",
    "- Both Mac and Linux use forward slashes / to separate folders in filepaths.\n",
    "\n",
    "To add more confusion, backslashes are an *escape* character in strings in Python.\n",
    "\n"
   ]
  },
  {
   "cell_type": "markdown",
   "metadata": {},
   "source": [
    "## More Resilient Approach"
   ]
  }
 ],
 "metadata": {
  "kernelspec": {
   "display_name": "Python 3",
   "language": "python",
   "name": "python3"
  },
  "language_info": {
   "codemirror_mode": {
    "name": "ipython",
    "version": 3
   },
   "file_extension": ".py",
   "mimetype": "text/x-python",
   "name": "python",
   "nbconvert_exporter": "python",
   "pygments_lexer": "ipython3",
   "version": "3.8.10"
  }
 },
 "nbformat": 4,
 "nbformat_minor": 4
}
